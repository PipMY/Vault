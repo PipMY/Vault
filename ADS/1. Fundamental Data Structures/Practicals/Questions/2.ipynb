{
 "cells": [
  {
   "cell_type": "markdown",
   "metadata": {},
   "source": [
    "## Algorithms and Data Structures Practical 3\n",
    "\n",
    "Use this notebook to implement answers to Question 3.\n",
    "\n",
    "You should create a function called ``update`` which takes three inputs --- ``H``, ``newscore`` and ``newname`` --- and returns an updated version of ``H``.  You should assume that ``H`` is a list with ten entries each of which is itself either a list with two entries (the first of which is a number) or ``None``.\n",
    "\n",
    "(Note that we are using the python list function as the abstract data type array.)\n",
    "\n",
    "Insert your code where indicated and then run the function ``testq3()`` to check your answer."
   ]
  },
  {
   "cell_type": "code",
   "execution_count": null,
   "metadata": {},
   "outputs": [],
   "source": [
    "def update(H, newscore, newname):\n",
    "    \"\"\"updates a high score table with a new name and the\n",
    "    score obtained\"\"\"\n",
    "    #YOUR CODE HERE\n",
    "    return H"
   ]
  },
  {
   "cell_type": "code",
   "execution_count": null,
   "metadata": {},
   "outputs": [],
   "source": [
    "def testq3():\n",
    "    \"\"\"test function for update\"\"\"\n",
    "    H = [[940, \"Mike\"], [880, \"Rob\"], [830, \"Jill\"], [790, \"Paul\"],\n",
    "            [750, \"Anna\"], [660, \"Rose\"], [650, \"Jack\"], None, None, None]\n",
    "    H1 = list(H)\n",
    "    H = update(H, 600, \"Hugh\")\n",
    "    assert H == H1[:7] + [[600, \"Hugh\"]] + H1[7:9]\n",
    "    H = update(H, 900, \"Lou\")\n",
    "    assert H == [H1[0]] + [[900, \"Lou\"]] + H1[1:7] + [[600, \"Hugh\"]] + [H1[7]]\n",
    "    H = update(H, 800, \"Sue\")\n",
    "    assert H == ([H1[0]] + [[900, \"Lou\"]] + H1[1:3] + [[800, \"Sue\"]] + H1[3:7] + [[600, \"Hugh\"]])\n",
    "    H = update(H, 500, \"Drew\")\n",
    "    assert H == ([H1[0]] + [[900, \"Lou\"]] + H1[1:3] + [[800, \"Sue\"]] + H1[3:7] + [[600, \"Hugh\"]])\n",
    "    print (\"all tests passed\")"
   ]
  },
  {
   "cell_type": "markdown",
   "metadata": {},
   "source": [
    "If you have the time and the inclination, you can look at the following implementation of linked lists in python.\n",
    "\n",
    "Before looking at linked lists, we need to look at nodes.  These are defined by the code below.  If you haven't yet met classes in python, don't worry about that --- you just need to understand how to define a node and refer to its attributes.  Remember that a Node has two attributes: data and next.  When you define a Node, you must state what the data is.  You write, for example\n",
    "\n",
    "```python\n",
    "n1 = Node(7)\n",
    "n2 = Node(4)\n",
    "```\n",
    "\n",
    "to create two nodes with data 7 and 4.  If you want to recall what the data of a node is, you can write\n",
    "\n",
    "```python\n",
    "n1.data\n",
    "```\n",
    "\n",
    "Initially the next attribute is None but you can update by, for example, writing\n",
    "\n",
    "```python\n",
    "n1.next = n2\n",
    "```\n",
    "\n",
    "And now you could write \n",
    "\n",
    "```python\n",
    "n1.next.data\n",
    "```"
   ]
  },
  {
   "cell_type": "code",
   "execution_count": null,
   "metadata": {},
   "outputs": [],
   "source": [
    "class Node:\n",
    "    def __init__(self, data):\n",
    "        self.data = data\n",
    "        self.next = None"
   ]
  },
  {
   "cell_type": "code",
   "execution_count": null,
   "metadata": {},
   "outputs": [],
   "source": [
    "#here are the examples from above -- what will be printed?\n",
    "n1 = Node(7)\n",
    "n2 = Node(4)\n",
    "n1.next = n2\n",
    "n1.next.data"
   ]
  },
  {
   "cell_type": "markdown",
   "metadata": {},
   "source": [
    "The code below defines a linked list with three attributes: head, tail and size.  When a linked list is created with\n",
    "\n",
    "```python\n",
    "L = LinkedList()\n",
    "```\n",
    "\n",
    "it is empty with the ```L.size``` equal to 0 and both ```L.head``` and ```L.tail``` equal to ```None``` (what we called Null in the lecture).  We can update each of these by writing, for example, \n",
    "\n",
    "```python\n",
    "L.head = n1\n",
    "L.tail = n2\n",
    "L.size += 1\n",
    "```\n",
    "\n",
    "but we have to be careful.  Simply redefining ```L.head``` will not add a pointer from the new head to the old one or update ```L.size``` so we need to write functions to perform updates to the list.  Below is a function that adds new data to the head of the list.\n",
    "\n",
    "(Note also that there is a method ```check``` that can be used to test whether a list contains the data that we think it does.)"
   ]
  },
  {
   "cell_type": "code",
   "execution_count": null,
   "metadata": {},
   "outputs": [],
   "source": [
    "class LinkedList:\n",
    "    def __init__(self):\n",
    "        self.head = None\n",
    "        self.tail = None\n",
    "        self.size = 0\n",
    "    def check(self, data_list):\n",
    "        contents = []\n",
    "        node = self.head\n",
    "        while node != None:\n",
    "            contents += [node.data]\n",
    "            node = node.next\n",
    "        return contents == data_list"
   ]
  },
  {
   "cell_type": "code",
   "execution_count": null,
   "metadata": {},
   "outputs": [],
   "source": [
    "def add_to_head_of_list(L, data):\n",
    "    #adds node to head of list with prescribed data\n",
    "    n = Node(data)\n",
    "    n.next = L.head\n",
    "    L.head = n\n",
    "    if L.size == 0:\n",
    "        L.tail = n\n",
    "    L.size += 1"
   ]
  },
  {
   "cell_type": "markdown",
   "metadata": {},
   "source": [
    "To demonstrate, let's create a list containing the data 7, 4, 2, 9.  Note that as we will add each piece of data to the head, we will add them in reverse order so that when we are done 7 is at the head."
   ]
  },
  {
   "cell_type": "code",
   "execution_count": null,
   "metadata": {},
   "outputs": [],
   "source": [
    "L = LinkedList()\n",
    "for data in [9, 2, 4, 7]:\n",
    "    add_to_head_of_list(L, data)"
   ]
  },
  {
   "cell_type": "markdown",
   "metadata": {},
   "source": [
    "What should the following code print?"
   ]
  },
  {
   "cell_type": "code",
   "execution_count": null,
   "metadata": {},
   "outputs": [],
   "source": [
    "L.head.next.next.data"
   ]
  },
  {
   "cell_type": "markdown",
   "metadata": {},
   "source": [
    "And here is how to use the ```check``` method."
   ]
  },
  {
   "cell_type": "code",
   "execution_count": null,
   "metadata": {},
   "outputs": [],
   "source": [
    "L.check([7, 4, 2, 9])"
   ]
  },
  {
   "cell_type": "markdown",
   "metadata": {},
   "source": [
    "Complete the two functions below to create functions to delete the head of a list and to add new data at the tail, and check your code with the tests below."
   ]
  },
  {
   "cell_type": "code",
   "execution_count": null,
   "metadata": {},
   "outputs": [],
   "source": [
    "def delete_head_of_list(L):\n",
    "    #deletes head of list\n",
    "    #YOUR CODE HERE"
   ]
  },
  {
   "cell_type": "code",
   "execution_count": null,
   "metadata": {},
   "outputs": [],
   "source": [
    "def add_to_tail_of_list(L, data)\n",
    "    #adds node to head of list with prescribed data\n",
    "    #YOUR CODE HERE"
   ]
  },
  {
   "cell_type": "code",
   "execution_count": null,
   "metadata": {},
   "outputs": [],
   "source": [
    "#test of delete_head_of_list\n",
    "\n",
    "#create list\n",
    "L = LinkedList()\n",
    "for data in [9, 2, 4, 7]:\n",
    "    add_to_head_of_list(L, data)\n",
    "\n",
    "#delete head\n",
    "delete_head_of_list(L)\n",
    "\n",
    "print(\"created linked list containing 7, 4, 2, 9 and then deleting head\")\n",
    "\n",
    "#check contents\n",
    "try:\n",
    "    L.check([4, 2, 9])\n",
    "    print(\"contents of list updated correctly\")\n",
    "except:\n",
    "    print(\"contents of list not updated correctly\")\n",
    "    \n",
    "#check L.head is correct\n",
    "try:\n",
    "    assert L.head.data == 4\n",
    "    print(\"L.head updated correctly\")\n",
    "except:\n",
    "    print(\"L.head has not been updated correctly\")\n",
    "    \n",
    "#check size is correct\n",
    "try:\n",
    "    assert L.size == 3\n",
    "    print(\"L.size updated correctly\")\n",
    "except:\n",
    "    print(\"L.size has not been updated correctly\")\n",
    "    \n",
    "#delete head three more times (so list will be empty)\n",
    "for idx in range(3):\n",
    "    delete_head_of_list(L)\n",
    "\n",
    "#repeat tests\n",
    "print(\"now deleting the head three more times so the list is empty\")\n",
    "try:\n",
    "    L.check([])\n",
    "except:\n",
    "    print(\"contents of list not updated correctly\")\n",
    "try:\n",
    "    assert L.head == None\n",
    "except:\n",
    "    print(\"L.head is not correct (should be None now)\")\n",
    "try:\n",
    "    assert L.size == 0\n",
    "except:\n",
    "    print(\"L.size is wrong; should be 0\")\n",
    "    \n",
    "try:\n",
    "    assert L.tail == None\n",
    "    print(\"L.tail has been updated correctly\")\n",
    "except:\n",
    "    print(\"L.tail has not been updated (should be None)\")\n",
    "    \n",
    "#try to delete head from empty list (should do nothing rather than report error)\n",
    "print(\"trying to delete head of empty list (nothing should happen)\")\n",
    "try:\n",
    "    delete_head_of_list(L)\n",
    "except:\n",
    "    print(\"this case has not been considered\")\n",
    "\n",
    "print(\"tests complete\")"
   ]
  },
  {
   "cell_type": "code",
   "execution_count": null,
   "metadata": {},
   "outputs": [],
   "source": [
    "#test of add_to_tail_of_list\n",
    "\n",
    "#create list\n",
    "L = LinkedList()\n",
    "\n",
    "for data in [9, 2, 4, 7]:\n",
    "    add_to_head_of_list(L, data)\n",
    "\n",
    "print(\"created linked list containing 7, 4, 2, 9 and then adding 5 to tail\")\n",
    "    \n",
    "    \n",
    "#add to tail of list\n",
    "add_to_tail_of_list(L, 5)\n",
    "#check contents\n",
    "try:\n",
    "    L.check([7, 4, 2, 9, 5])\n",
    "except:\n",
    "    print(\"contents of the list have not been updated correctly\")\n",
    "    \n",
    "#check L.tail is correct\n",
    "try:\n",
    "    assert L.tail.data == 5\n",
    "except:\n",
    "    print(\"L.tail.data has not been updated; should be 5\")\n",
    "\n",
    "#check size is correct\n",
    "try:\n",
    "    assert L.size == 5\n",
    "except:\n",
    "    print(\"L.size has not been updated\")\n",
    "    \n",
    "#check when adding to an empty list\n",
    "#create list\n",
    "L = LinkedList()\n",
    "#add to tail of list\n",
    "add_to_tail_of_list(L, 5)\n",
    "try:\n",
    "    #check contents\n",
    "    L.check([5])\n",
    "    #check L.tail is correct\n",
    "    assert L.tail.data == 5\n",
    "    #check size is correct\n",
    "    assert L.size == 1\n",
    "except:\n",
    "    pass\n",
    "    \n",
    "#check head is correct\n",
    "try:\n",
    "    assert L.head.data == 5\n",
    "except:\n",
    "    print(\"you have not considered that L.head should also be updated when you add to the tail of an empty list\")\n",
    "\n",
    "print(\"all tests done\")"
   ]
  }
 ],
 "metadata": {
  "kernelspec": {
   "display_name": "Python 3",
   "language": "python",
   "name": "python3"
  },
  "language_info": {
   "codemirror_mode": {
    "name": "ipython",
    "version": 3
   },
   "file_extension": ".py",
   "mimetype": "text/x-python",
   "name": "python",
   "nbconvert_exporter": "python",
   "pygments_lexer": "ipython3",
   "version": "3.8.11"
  }
 },
 "nbformat": 4,
 "nbformat_minor": 4
}
