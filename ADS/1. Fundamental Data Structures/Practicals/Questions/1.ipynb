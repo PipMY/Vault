{
 "cells": [
  {
   "cell_type": "markdown",
   "metadata": {},
   "source": [
    "Program to find the smallest item in a set of numbers"
   ]
  },
  {
   "cell_type": "code",
   "execution_count": 1,
   "metadata": {},
   "outputs": [],
   "source": [
    "def smallest(A):\n",
    "    \"\"\"finds and prints the smallest integer in a list A;\n",
    "    A is assumed to be a non-empty list of integers\"\"\"\n",
    "    smallest_so_far = A[0]  \n",
    "    for i in A[1:]:                            #consider each integer in the list after the first one \n",
    "        if i < smallest_so_far:                #ask if this is the smallest integer seen so so far\n",
    "            smallest_so_far = i                #if it is, then record it\n",
    "    print (\"smallest in the list is\", smallest_so_far)"
   ]
  },
  {
   "cell_type": "code",
   "execution_count": 2,
   "metadata": {},
   "outputs": [
    {
     "name": "stdout",
     "output_type": "stream",
     "text": [
      "smallest in the list is 2\n"
     ]
    }
   ],
   "source": [
    "smallest([3,8,17,2,9])"
   ]
  },
  {
   "cell_type": "code",
   "execution_count": null,
   "metadata": {},
   "outputs": [],
   "source": []
  }
 ],
 "metadata": {
  "kernelspec": {
   "display_name": "Python 3",
   "language": "python",
   "name": "python3"
  },
  "language_info": {
   "codemirror_mode": {
    "name": "ipython",
    "version": 3
   },
   "file_extension": ".py",
   "mimetype": "text/x-python",
   "name": "python",
   "nbconvert_exporter": "python",
   "pygments_lexer": "ipython3",
   "version": "3.8.11"
  }
 },
 "nbformat": 4,
 "nbformat_minor": 4
}
